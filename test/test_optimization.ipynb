{
 "cells": [
  {
   "cell_type": "code",
   "execution_count": 1,
   "metadata": {},
   "outputs": [],
   "source": [
    "from ase.io import write\n",
    "from ase.build import bulk\n",
    "from ase.optimize import BFGSLineSearch\n",
    "from ase.filters import UnitCellFilter"
   ]
  },
  {
   "cell_type": "code",
   "execution_count": 2,
   "metadata": {},
   "outputs": [
    {
     "name": "stderr",
     "output_type": "stream",
     "text": [
      "/Users/leseixas/miniconda3/envs/mace/lib/python3.13/site-packages/e3nn/o3/_wigner.py:10: UserWarning: Environment variable TORCH_FORCE_NO_WEIGHTS_ONLY_LOAD detected, since the`weights_only` argument was not explicitly passed to `torch.load`, forcing weights_only=False.\n",
      "  _Jd, _W3j_flat, _W3j_indices = torch.load(os.path.join(os.path.dirname(__file__), 'constants.pt'))\n"
     ]
    },
    {
     "name": "stdout",
     "output_type": "stream",
     "text": [
      "cuequivariance or cuequivariance_torch is not available. Cuequivariance acceleration will be disabled.\n",
      "Using Materials Project MACE for MACECalculator with /Users/leseixas/.cache/mace/20231210mace128L0_energy_epoch249model\n",
      "Using float32 for MACECalculator, which is faster but less accurate. Recommended for MD. Use float64 for geometry optimization.\n",
      "Default dtype float32 does not match model dtype float64, converting models to float32.\n"
     ]
    },
    {
     "name": "stderr",
     "output_type": "stream",
     "text": [
      "/Users/leseixas/miniconda3/envs/mace/lib/python3.13/site-packages/mace/calculators/mace.py:139: UserWarning: Environment variable TORCH_FORCE_NO_WEIGHTS_ONLY_LOAD detected, since the`weights_only` argument was not explicitly passed to `torch.load`, forcing weights_only=False.\n",
      "  torch.load(f=model_path, map_location=device)\n"
     ]
    }
   ],
   "source": [
    "# Create Au and Pt Atoms object\n",
    "gold = bulk(\"Au\", cubic=True)\n",
    "platinum = bulk(\"Pt\", cubic=True)\n",
    "\n",
    "# Create a calculator object to optimize structures.\n",
    "from mace.calculators import mace_mp\n",
    "calc_mace = mace_mp(model=\"small\",\n",
    "                    dispersion=False,\n",
    "                    default_dtype=\"float32\",\n",
    "                    device='cpu')\n",
    "\n",
    "gold.calc = calc_mace\n",
    "platinum.calc = calc_mace"
   ]
  },
  {
   "cell_type": "code",
   "execution_count": 3,
   "metadata": {},
   "outputs": [
    {
     "name": "stdout",
     "output_type": "stream",
     "text": [
      "                Step[ FC]     Time          Energy          fmax\n",
      "BFGSLineSearch:    0[  0] 18:47:28      -12.942894       1.0920\n",
      "BFGSLineSearch:    1[  1] 18:47:29      -13.068848       0.2355\n",
      "BFGSLineSearch:    2[  2] 18:47:29      -13.076817       0.0365\n",
      "BFGSLineSearch:    3[  3] 18:47:29      -13.077005       0.0015\n",
      "                Step[ FC]     Time          Energy          fmax\n",
      "BFGSLineSearch:    0[  0] 18:47:29      -24.141430       1.1704\n",
      "BFGSLineSearch:    1[  2] 18:47:29      -24.249146       0.0005\n"
     ]
    },
    {
     "data": {
      "text/plain": [
       "np.True_"
      ]
     },
     "execution_count": 3,
     "metadata": {},
     "output_type": "execute_result"
    }
   ],
   "source": [
    "# Optimize Au and Pt unit cell.\n",
    "optimizer_gold = BFGSLineSearch(UnitCellFilter(gold))\n",
    "optimizer_platinum = BFGSLineSearch(UnitCellFilter(platinum))\n",
    "optimizer_gold.run(fmax=0.01)\n",
    "optimizer_platinum.run(fmax=0.01)"
   ]
  },
  {
   "cell_type": "code",
   "execution_count": 6,
   "metadata": {},
   "outputs": [],
   "source": [
    "# Save the optimized unit cells for Au and Pt.\n",
    "write(\"Au.cif\", gold)\n",
    "write(\"Pt.cif\", platinum)"
   ]
  }
 ],
 "metadata": {
  "kernelspec": {
   "display_name": "mace",
   "language": "python",
   "name": "python3"
  },
  "language_info": {
   "codemirror_mode": {
    "name": "ipython",
    "version": 3
   },
   "file_extension": ".py",
   "mimetype": "text/x-python",
   "name": "python",
   "nbconvert_exporter": "python",
   "pygments_lexer": "ipython3",
   "version": "3.13.2"
  }
 },
 "nbformat": 4,
 "nbformat_minor": 2
}
